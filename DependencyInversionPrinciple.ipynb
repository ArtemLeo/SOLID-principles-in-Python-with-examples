{
 "cells": [
  {
   "cell_type": "markdown",
   "source": [
    "## Dependency Inversion Principle\n",
    "Dependency should be on abstractions not concretions A. High-level modules\n",
    "should not depend upon low-level modules. Both should depend upon abstractions.\n",
    "B. Abstractions should not depend on details. Details should depend upon\n",
    "abstractions.\n",
    "\n",
    "There comes a point in software development where our app will be largely\n",
    "composed of modules.  When this happens, we have to clear things up by using\n",
    "dependency injection.  High-level components depending on low-level components\n",
    "to function."
   ],
   "metadata": {
    "collapsed": false
   }
  },
  {
   "cell_type": "code",
   "execution_count": null,
   "outputs": [],
   "source": [
    "class XMLHttpService(XMLHttpRequestService):\n",
    "    pass\n",
    "\n",
    "class Http:\n",
    "    def __init__(self, xml_http_service: XMLHttpService):\n",
    "        self.xml_http_service = xml_http_service\n",
    "\n",
    "    def get(self, url: str, options: dict):\n",
    "        self.xml_http_service.request(url, 'GET')\n",
    "\n",
    "    def post(self, url: str, options: dict):\n",
    "        self.xml_http_service.request(url, 'POST')"
   ],
   "metadata": {
    "collapsed": false
   }
  },
  {
   "cell_type": "markdown",
   "source": [
    "Here, Http is the high-level component whereas XMLHttpService is the low-level\n",
    "component.  This design violates DIP A: High-level modules should not depend on\n",
    "low-level modules. It should depend upon its abstraction.\n",
    "\n",
    "Ths Http class is forced to depend upon the XMLHttpService class.  If we were to\n",
    "change the Http connection service, maybe we want to connect to the internet\n",
    "through cURL or even Mock the http service.  We will painstakingly have to move\n",
    "through all the instances of Http to edit the code and this violates the OCP\n",
    "principle.\n",
    "\n",
    "The Http class should care less the type of Http service you are using. We make\n",
    "a Connection interface:"
   ],
   "metadata": {
    "collapsed": false
   }
  },
  {
   "cell_type": "code",
   "execution_count": null,
   "outputs": [],
   "source": [
    "class Connection:\n",
    "    def request(self, url: str, options: dict):\n",
    "        raise NotImplementedError"
   ],
   "metadata": {
    "collapsed": false
   }
  },
  {
   "cell_type": "markdown",
   "source": [
    "The Connection interface has a request method. With this, we pass in an argument\n",
    "of type Connection to our Http class:"
   ],
   "metadata": {
    "collapsed": false
   }
  },
  {
   "cell_type": "code",
   "execution_count": null,
   "metadata": {
    "collapsed": true
   },
   "outputs": [],
   "source": [
    "class Http:\n",
    "    def __init__(self, http_connection: Connection):\n",
    "        self.http_connection = http_connection\n",
    "\n",
    "    def get(self, url: str, options: dict):\n",
    "        self.http_connection.request(url, 'GET')\n",
    "\n",
    "    def post(self, url: str, options: dict):\n",
    "        self.http_connection.request(url, 'POST')"
   ]
  },
  {
   "cell_type": "markdown",
   "source": [
    "So now, no matter the type of Http connection service passed to Http it can\n",
    "easily connect to a network without bothering to know the type of network\n",
    "connection.\n",
    "\n",
    "We can now re-implement our XMLHttpService class to implement the Connection\n",
    "interface:"
   ],
   "metadata": {
    "collapsed": false
   }
  },
  {
   "cell_type": "code",
   "execution_count": null,
   "outputs": [],
   "source": [
    "class XMLHttpService(Connection):\n",
    "    xhr = XMLHttpRequest()\n",
    "\n",
    "    def request(self, url: str, options:dict):\n",
    "        self.xhr.open()\n",
    "        self.xhr.send()"
   ],
   "metadata": {
    "collapsed": false
   }
  },
  {
   "cell_type": "markdown",
   "source": [
    "We can create many Http Connection types and pass it to our Http class without\n",
    "any fuss about errors."
   ],
   "metadata": {
    "collapsed": false
   }
  },
  {
   "cell_type": "markdown",
   "source": [
    "class NodeHttpService(Connection):\n",
    "    def request(self, url: str, options:dict):\n",
    "        pass\n",
    "\n",
    "class MockHttpService(Connection):\n",
    "    def request(self, url: str, options:dict):\n",
    "        pass"
   ],
   "metadata": {
    "collapsed": false
   }
  },
  {
   "cell_type": "markdown",
   "source": [
    "Now, we can see that both high-level modules and low-level modules depend on\n",
    "abstractions.  Http class(high level module) depends on the Connection\n",
    "interface(abstraction) and the Http service types(low level modules) in turn,\n",
    "depends on the Connection interface(abstraction).\n",
    "\n",
    "Also, this DIP will force us not to violate the Liskov Substitution Principle:\n",
    "The Connection types Node-XML-MockHttpService are substitutable for their parent\n",
    "type Connection."
   ],
   "metadata": {
    "collapsed": false
   }
  }
 ],
 "metadata": {
  "kernelspec": {
   "display_name": "Python 3",
   "language": "python",
   "name": "python3"
  },
  "language_info": {
   "codemirror_mode": {
    "name": "ipython",
    "version": 2
   },
   "file_extension": ".py",
   "mimetype": "text/x-python",
   "name": "python",
   "nbconvert_exporter": "python",
   "pygments_lexer": "ipython2",
   "version": "2.7.6"
  }
 },
 "nbformat": 4,
 "nbformat_minor": 0
}
