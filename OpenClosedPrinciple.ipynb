{
 "cells": [
  {
   "cell_type": "markdown",
   "source": [
    "##  Open-Closed Principle\n",
    "\n",
    "Software entities(Classes, modules, functions) should be open for extension, not\n",
    "modification."
   ],
   "metadata": {
    "collapsed": false
   }
  },
  {
   "cell_type": "code",
   "execution_count": null,
   "metadata": {
    "collapsed": true
   },
   "outputs": [],
   "source": [
    "class Animal:\n",
    "    def __init__(self, name: str):\n",
    "        self.name = name\n",
    "\n",
    "    def get_name(self) -> str:\n",
    "        pass\n",
    "\n",
    "animals = [\n",
    "    Animal('lion'),\n",
    "    Animal('mouse')\n",
    "]\n",
    "\n",
    "def animal_sound(animals: list):\n",
    "    for animal in animals:\n",
    "        if animal.name == 'lion':\n",
    "            print('roar')\n",
    "\n",
    "        elif animal.name == 'mouse':\n",
    "            print('squeak')\n",
    "\n",
    "animal_sound(animals)"
   ]
  },
  {
   "cell_type": "markdown",
   "source": [
    "The function animal_sound does not conform to the open-closed principle because\n",
    "it cannot be closed against new kinds of animals.  If we add a new animal,\n",
    "Snake, We have to modify the animal_sound function.  You see, for every new\n",
    "animal, a new logic is added to the animal_sound function.  This is quite a\n",
    "simple example. When your application grows and becomes complex, you will see\n",
    "that the if statement would be repeated over and over again in the animal_sound\n",
    "function each time a new animal is added, all over the application."
   ],
   "metadata": {
    "collapsed": false
   }
  },
  {
   "cell_type": "code",
   "execution_count": null,
   "outputs": [],
   "source": [
    "animals = [\n",
    "    Animal('lion'),\n",
    "    Animal('mouse'),\n",
    "    Animal('snake')\n",
    "]\n",
    "\n",
    "def animal_sound(animals: list):\n",
    "    for animal in animals:\n",
    "        if animal.name == 'lion':\n",
    "            print('roar')\n",
    "        elif animal.name == 'mouse':\n",
    "            print('squeak')\n",
    "        elif animal.name == 'snake':\n",
    "            print('hiss')\n",
    "\n",
    "animal_sound(animals)"
   ],
   "metadata": {
    "collapsed": false
   }
  },
  {
   "cell_type": "markdown",
   "source": [
    "How do we make it (the animal_sound) conform to OCP?\n"
   ],
   "metadata": {
    "collapsed": false
   }
  },
  {
   "cell_type": "code",
   "execution_count": null,
   "outputs": [],
   "source": [
    "class Animal:\n",
    "    def __init__(self, name: str):\n",
    "        self.name = name\n",
    "\n",
    "    def get_name(self) -> str:\n",
    "        pass\n",
    "\n",
    "    def make_sound(self) -> str:\n",
    "        pass\n",
    "\n",
    "\n",
    "class Lion(Animal):\n",
    "    def make_sound(self) -> str:\n",
    "        return 'roar'\n",
    "\n",
    "\n",
    "class Mouse(Animal):\n",
    "    def make_sound(self) -> str:\n",
    "        return 'squeak'\n",
    "\n",
    "\n",
    "class Snake(Animal):\n",
    "    def make_sound(self) -> str:\n",
    "        return 'hiss'\n",
    "\n",
    "\n",
    "def animal_sound(animals: list) -> None:\n",
    "    for animal in animals:\n",
    "        print(animal.make_sound())\n",
    "\n",
    "animal_sound(animals)"
   ],
   "metadata": {
    "collapsed": false
   }
  },
  {
   "cell_type": "markdown",
   "source": [
    "Animal now has a virtual method make_sound. We have each animal extend the\n",
    "Animal class and implement the virtual make_sound method.\n",
    "\n",
    "Every animal adds its own implementation on how it makes a sound in the\n",
    "make_sound.  The animal_sound iterates through the array of animal and just\n",
    "calls its make_sound method.\n",
    "\n",
    "Now, if we add a new animal, animal_sound doesn’t need to change.  All we need\n",
    "to do is add the new animal to the animal array.\n",
    "\n",
    "animal_sound now conforms to the OCP principle."
   ],
   "metadata": {
    "collapsed": false
   }
  },
  {
   "cell_type": "markdown",
   "source": [
    "#### Another example:\n",
    "\n",
    "Let’s imagine you have a store, and you give a discount of 20% to your favorite\n",
    "customers using this class: When you decide to offer double the 20% discount to\n",
    "VIP customers. You may modify the class like this:"
   ],
   "metadata": {
    "collapsed": false
   }
  },
  {
   "cell_type": "code",
   "execution_count": null,
   "outputs": [],
   "source": [
    "class Discount:\n",
    "    def __init__(self, customer, price):\n",
    "        self.customer = customer\n",
    "        self.price = price\n",
    "\n",
    "    def give_discount(self) -> float:\n",
    "            if self.customer == 'fav':\n",
    "                return self.price * 0.2\n",
    "            if self.customer == 'vip':\n",
    "                return self.price * 0.4"
   ],
   "metadata": {
    "collapsed": false
   }
  },
  {
   "cell_type": "markdown",
   "source": [
    "No, this fails the OCP principle. OCP forbids it. If we want to give a new\n",
    "percent discount maybe, to a diff.  type of customers, you will see that a new\n",
    "logic will be added.\n",
    "\n",
    "To make it follow the OCP principle, we will add a new class that will extend\n",
    "the Discount.  In this new class, we would implement its new behavior:"
   ],
   "metadata": {
    "collapsed": false
   }
  },
  {
   "cell_type": "code",
   "execution_count": null,
   "outputs": [],
   "source": [
    "class Discount:\n",
    "    def __init__(self, customer, price):\n",
    "        self.customer = customer\n",
    "        self.price = price\n",
    "\n",
    "    def get_discount(self) -> float:\n",
    "            return self.price * 0.2\n",
    "\n",
    "\n",
    "class VIPDiscount(Discount):\n",
    "    def get_discount(self) -> float:\n",
    "        return super().get_discount() * 2"
   ],
   "metadata": {
    "collapsed": false
   }
  },
  {
   "cell_type": "markdown",
   "source": [
    "If you decide 80% discount to super VIP customers, it should be like this:\n",
    "You see, extension without modification."
   ],
   "metadata": {
    "collapsed": false
   }
  },
  {
   "cell_type": "code",
   "execution_count": null,
   "outputs": [],
   "source": [
    "class SuperVIPDiscount(VIPDiscount):\n",
    "    def get_discount(self):\n",
    "        return super().get_discount() * 2"
   ],
   "metadata": {
    "collapsed": false
   }
  }
 ],
 "metadata": {
  "kernelspec": {
   "display_name": "Python 3",
   "language": "python",
   "name": "python3"
  },
  "language_info": {
   "codemirror_mode": {
    "name": "ipython",
    "version": 2
   },
   "file_extension": ".py",
   "mimetype": "text/x-python",
   "name": "python",
   "nbconvert_exporter": "python",
   "pygments_lexer": "ipython2",
   "version": "2.7.6"
  }
 },
 "nbformat": 4,
 "nbformat_minor": 0
}
