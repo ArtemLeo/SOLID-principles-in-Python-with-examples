{
 "cells": [
  {
   "cell_type": "markdown",
   "source": [
    "## Single Responsibility Principle\n",
    "\n",
    "“…You had one job” - Loki to Skurge in :\n",
    "_Thor Ragnarok_\n",
    "\n",
    "A class should have only one job.  If a class has more than one responsibility,\n",
    "it becomes coupled.  A change to one responsibility results to modification of\n",
    "the other responsibility."
   ],
   "metadata": {
    "collapsed": false
   }
  },
  {
   "cell_type": "code",
   "execution_count": null,
   "outputs": [],
   "source": [
    "class Animal:\n",
    "    def __init__(self, name: str) -> None:\n",
    "        self.name = name\n",
    "\n",
    "    def get_name(self) -> str:\n",
    "        pass\n",
    "\n",
    "    def save(self, animal: Animal) -> None:\n",
    "        pass"
   ],
   "metadata": {
    "collapsed": false
   }
  },
  {
   "cell_type": "markdown",
   "source": [
    "#### The Animal class violates the SRP.\n",
    "\n",
    "#### How does it violate SRP?\n",
    "\n",
    "SRP states that classes should have one responsibility, here, we can draw out\n",
    "two responsibilities: animal database management and animal properties\n",
    "management.  The constructor and get_name manage the Animal properties while the\n",
    "save manages the Animal storage on a database.\n",
    "\n",
    "How will this design cause issues in the future?\n",
    "\n",
    "If the application changes in a way that it affects database management\n",
    "functions. The classes that make use of Animal properties will have to be\n",
    "touched and recompiled to compensate for the new changes.\n",
    "\n",
    "You see this system smells of rigidity, it’s like a domino effect, touch one\n",
    "card it affects all other cards in line.\n",
    "\n",
    "To make this conform to SRP, we create another class that will handle the sole\n",
    "responsibility of storing an animal to a database:"
   ],
   "metadata": {
    "collapsed": false
   }
  },
  {
   "cell_type": "code",
   "execution_count": null,
   "outputs": [],
   "source": [
    "class Animal:\n",
    "    def __init__(self, name: str) -> None:\n",
    "        self.name = name\n",
    "\n",
    "    def get_name(self) -> str:\n",
    "        pass\n",
    "\n",
    "\n",
    "class AnimalDB:\n",
    "    def get_animal(self, id: int) -> Animal:\n",
    "        pass\n",
    "\n",
    "    def save(self, animal: Animal) -> None:\n",
    "        pass"
   ],
   "metadata": {
    "collapsed": false
   }
  },
  {
   "cell_type": "markdown",
   "source": [
    "When designing our classes, we should aim to put related features together, so\n",
    "whenever they tend to change they change for the same reason.  And we should try\n",
    "to separate features if they will change for different reasons. - Steve Fenton"
   ],
   "metadata": {
    "collapsed": false
   }
  },
  {
   "cell_type": "markdown",
   "source": [
    "The downside of this solution is that the clients of the this code have to deal\n",
    "with two classes.  A common solution to this dilemma is to apply the Facade\n",
    "pattern.  Animal class will be the Facade for animal database management and\n",
    "animal properties management."
   ],
   "metadata": {
    "collapsed": false
   }
  },
  {
   "cell_type": "code",
   "execution_count": null,
   "outputs": [],
   "source": [
    "class Animal:\n",
    "    def __init__(self, name: str):\n",
    "        self.name = name\n",
    "        self.db = AnimalDB()\n",
    "\n",
    "    def get_name(self) -> str:\n",
    "        return self.name\n",
    "\n",
    "    def get(self, id: int) -> Animal:\n",
    "        return self.db.get_animal(id)\n",
    "\n",
    "    def save(self) -> None:\n",
    "        self.db.save(animal=self)"
   ],
   "metadata": {
    "collapsed": false
   }
  },
  {
   "cell_type": "markdown",
   "source": [
    "The most important methods are kept in the Animal class and used as Facade for\n",
    "the lesser functions."
   ],
   "metadata": {
    "collapsed": false
   }
  }
 ],
 "metadata": {
  "kernelspec": {
   "display_name": "Python 3",
   "language": "python",
   "name": "python3"
  },
  "language_info": {
   "codemirror_mode": {
    "name": "ipython",
    "version": 2
   },
   "file_extension": ".py",
   "mimetype": "text/x-python",
   "name": "python",
   "nbconvert_exporter": "python",
   "pygments_lexer": "ipython2",
   "version": "2.7.6"
  }
 },
 "nbformat": 4,
 "nbformat_minor": 0
}
