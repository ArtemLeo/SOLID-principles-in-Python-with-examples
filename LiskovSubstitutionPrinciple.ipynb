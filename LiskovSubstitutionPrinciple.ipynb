{
 "cells": [
  {
   "cell_type": "markdown",
   "source": [
    "## Liskov Substitution Principle\n",
    "\n",
    "A sub-class must be substitutable for its super-class.  The aim of this\n",
    "principle is to ascertain that a sub-class can assume the place of its\n",
    "super-class without errors.  If the code finds itself checking the type of class\n",
    "then, it must have violated this principle.\n",
    "\n",
    "Let’s use our Animal example."
   ],
   "metadata": {
    "collapsed": false
   }
  },
  {
   "cell_type": "code",
   "execution_count": null,
   "metadata": {
    "collapsed": true
   },
   "outputs": [],
   "source": [
    "def animal_leg_count(animals: list) -> None:\n",
    "    for animal in animals:\n",
    "        if isinstance(animal, Lion):\n",
    "            print(lion_leg_count(animal))\n",
    "        elif isinstance(animal, Mouse):\n",
    "            print(mouse_leg_count(animal))\n",
    "        elif isinstance(animal, Pigeon):\n",
    "            print(pigeon_leg_count(animal))\n",
    "\n",
    "animal_leg_count(animals)\n"
   ]
  },
  {
   "cell_type": "markdown",
   "source": [
    "To make this function follow the LSP principle, we will follow this LSP\n",
    "requirements postulated by Steve Fenton:\n",
    "\n",
    "If the super-class (Animal) has a method that accepts a super-class type\n",
    "(Animal) parameter.  Its sub-class(Pigeon) should accept as argument a\n",
    "super-class type (Animal type) or sub-class type(Pigeon type).  If the\n",
    "super-class returns a super-class type (Animal).  Its sub-class should return a\n",
    "super-class type (Animal type) or sub-class type(Pigeon).  Now, we can\n",
    "re-implement animal_leg_count function:"
   ],
   "metadata": {
    "collapsed": false
   }
  },
  {
   "cell_type": "code",
   "execution_count": null,
   "outputs": [],
   "source": [
    "def animal_leg_count(animals: list) -> None:\n",
    "    for animal in animals:\n",
    "        print(animal.leg_count())\n",
    "\n",
    "animal_leg_count(animals)"
   ],
   "metadata": {
    "collapsed": false
   }
  },
  {
   "cell_type": "markdown",
   "source": [
    "The animal_leg_count function cares less the type of Animal passed, it just\n",
    "calls the leg_count method.  All it knows is that the parameter must be of an\n",
    "Animal type, either the Animal class or its sub-class.\n",
    "\n",
    "The Animal class now have to implement/define a leg_count method.  And its\n",
    "sub-classes have to implement the leg_count method:"
   ],
   "metadata": {
    "collapsed": false
   }
  },
  {
   "cell_type": "code",
   "execution_count": null,
   "outputs": [],
   "source": [
    "class Animal:\n",
    "    def leg_count(self):\n",
    "        pass\n",
    "\n",
    "\n",
    "class Lion(Animal):\n",
    "    def leg_count(self):\n",
    "        pass"
   ],
   "metadata": {
    "collapsed": false
   }
  },
  {
   "cell_type": "markdown",
   "source": [
    "When it’s passed to the animal_leg_count function, it returns the number of legs\n",
    "a lion has.\n",
    "\n",
    "You see, the animal_leg_count doesn’t need to know the type of Animal to return\n",
    "its leg count, it just calls the leg_count method of the Animal type because by\n",
    "contract a sub-class of Animal class must implement the leg_count function."
   ],
   "metadata": {
    "collapsed": false
   }
  }
 ],
 "metadata": {
  "kernelspec": {
   "display_name": "Python 3",
   "language": "python",
   "name": "python3"
  },
  "language_info": {
   "codemirror_mode": {
    "name": "ipython",
    "version": 2
   },
   "file_extension": ".py",
   "mimetype": "text/x-python",
   "name": "python",
   "nbconvert_exporter": "python",
   "pygments_lexer": "ipython2",
   "version": "2.7.6"
  }
 },
 "nbformat": 4,
 "nbformat_minor": 0
}
