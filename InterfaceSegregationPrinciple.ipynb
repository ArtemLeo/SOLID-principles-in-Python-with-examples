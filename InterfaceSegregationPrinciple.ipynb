{
 "cells": [
  {
   "cell_type": "markdown",
   "source": [
    "## Interface Segregation Principle\n",
    "\n",
    "Make fine grained interfaces that are client specific Clients should not be\n",
    "forced to depend upon interfaces that they do not use.  This principle deals\n",
    "with the disadvantages of implementing big interfaces.\n",
    "\n",
    "Let’s look at the below IShape interface:"
   ],
   "metadata": {
    "collapsed": false
   }
  },
  {
   "cell_type": "code",
   "execution_count": null,
   "metadata": {
    "collapsed": true
   },
   "outputs": [],
   "source": [
    "class IShape:\n",
    "    def draw_square(self):\n",
    "        raise NotImplementedError\n",
    "\n",
    "    def draw_rectangle(self):\n",
    "        raise NotImplementedError\n",
    "\n",
    "    def draw_circle(self):\n",
    "        raise NotImplementedError"
   ]
  },
  {
   "cell_type": "markdown",
   "source": [
    "This interface draws squares, circles, rectangles. class Circle, Square or\n",
    "Rectangle implementing the IShape interface must define the methods\n",
    "draw_square(), draw_rectangle(), draw_circle()."
   ],
   "metadata": {
    "collapsed": false
   }
  },
  {
   "cell_type": "code",
   "execution_count": null,
   "outputs": [],
   "source": [
    "class Circle(IShape):\n",
    "    def draw_square(self):\n",
    "        pass\n",
    "\n",
    "    def draw_rectangle(self):\n",
    "        pass\n",
    "\n",
    "    def draw_circle(self):\n",
    "        pass\n",
    "\n",
    "class Square(IShape):\n",
    "    def draw_square(self):\n",
    "        pass\n",
    "\n",
    "    def draw_rectangle(self):\n",
    "        pass\n",
    "\n",
    "    def draw_circle(self):\n",
    "        pass\n",
    "\n",
    "class Rectangle(IShape):\n",
    "    def draw_square(self):\n",
    "        pass\n",
    "\n",
    "    def draw_rectangle(self):\n",
    "        pass\n",
    "\n",
    "    def draw_circle(self):\n",
    "        pass"
   ],
   "metadata": {
    "collapsed": false
   }
  },
  {
   "cell_type": "markdown",
   "source": [
    "It’s quite funny looking at the code above. class Rectangle implements methods\n",
    "(draw_circle and draw_square) it has no use of, likewise Square implementing\n",
    "draw_circle, and draw_rectangle, and class Circle (draw_square, draw_rectangle).\n",
    "\n",
    "If we add another method to the IShape interface, like draw_triangle(),"
   ],
   "metadata": {
    "collapsed": false
   }
  },
  {
   "cell_type": "code",
   "execution_count": null,
   "outputs": [],
   "source": [
    "class IShape:\n",
    "    def draw_square(self):\n",
    "        raise NotImplementedError\n",
    "\n",
    "    def draw_rectangle(self):\n",
    "        raise NotImplementedError\n",
    "\n",
    "    def draw_circle(self):\n",
    "        raise NotImplementedError\n",
    "\n",
    "    def draw_triangle(self):\n",
    "        raise NotImplementedError"
   ],
   "metadata": {
    "collapsed": false
   }
  },
  {
   "cell_type": "markdown",
   "source": [
    "The classes must implement the new method or error will be thrown.\n",
    "\n",
    "We see that it is impossible to implement a shape that can draw a circle but not\n",
    "a rectangle or a square or a triangle.  We can just implement the methods to\n",
    "throw an error that shows the operation cannot be performed.\n",
    "\n",
    "ISP frowns against the design of this IShape interface. clients (here Rectangle,\n",
    "Circle, and Square) should not be forced to depend on methods that they do not\n",
    "need or use.  Also, ISP states that interfaces should perform only one job (just\n",
    "like the SRP principle) any extra grouping of behavior should be abstracted away\n",
    "to another interface.\n",
    "\n",
    "Here, our IShape interface performs actions that should be handled independently\n",
    "by other interfaces.\n",
    "\n",
    "To make our IShape interface conform to the ISP principle, we segregate the\n",
    "actions to different interfaces.  Classes (Circle, Rectangle, Square, Triangle,\n",
    "etc) can just inherit from the IShape interface and implement their own draw\n",
    "behavior."
   ],
   "metadata": {
    "collapsed": false
   }
  },
  {
   "cell_type": "code",
   "execution_count": null,
   "outputs": [],
   "source": [
    "class IShape:\n",
    "    def draw(self):\n",
    "        raise NotImplementedError\n",
    "\n",
    "class Circle(IShape):\n",
    "    def draw(self):\n",
    "        pass\n",
    "\n",
    "class Square(IShape):\n",
    "    def draw(self):\n",
    "        pass\n",
    "\n",
    "class Rectangle(IShape):\n",
    "    def draw(self):\n",
    "        pass"
   ],
   "metadata": {
    "collapsed": false
   }
  },
  {
   "cell_type": "markdown",
   "source": [
    "We can then use the I -interfaces to create Shape specifics like Semi Circle,\n",
    "Right-Angled Triangle, Equilateral Triangle, Blunt-Edged Rectangle, etc."
   ],
   "metadata": {
    "collapsed": false
   }
  }
 ],
 "metadata": {
  "kernelspec": {
   "display_name": "Python 3",
   "language": "python",
   "name": "python3"
  },
  "language_info": {
   "codemirror_mode": {
    "name": "ipython",
    "version": 2
   },
   "file_extension": ".py",
   "mimetype": "text/x-python",
   "name": "python",
   "nbconvert_exporter": "python",
   "pygments_lexer": "ipython2",
   "version": "2.7.6"
  }
 },
 "nbformat": 4,
 "nbformat_minor": 0
}
